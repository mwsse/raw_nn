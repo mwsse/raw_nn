{
 "cells": [
  {
   "cell_type": "markdown",
   "metadata": {},
   "source": [
    "# Neural Networks from scratch in Python "
   ]
  },
  {
   "cell_type": "code",
   "execution_count": 3,
   "metadata": {},
   "outputs": [],
   "source": [
    "import numpy as np\n",
    "import nnfs\n",
    "from nnfs.datasets import spiral_data\n",
    "\n",
    "nnfs.init()"
   ]
  },
  {
   "cell_type": "markdown",
   "metadata": {},
   "source": [
    "### Dense Layer"
   ]
  },
  {
   "cell_type": "code",
   "execution_count": 4,
   "metadata": {},
   "outputs": [],
   "source": [
    "class Layer_Dense:\n",
    "\n",
    "    # Layer initialization\n",
    "    def __init__(self, n_inputs, n_neurons):\n",
    "        # Initialize weights and biases\n",
    "        self.weights = 0.01 * np.random.randn(n_inputs, n_neurons)\n",
    "        self.biases  = np.zeros((1, n_neurons))\n",
    "\n",
    "    # Forward pass\n",
    "    def forward(self, inputs):\n",
    "        self.inputs = inputs\n",
    "        # Calculate output values from inputs, weights and biases\n",
    "        self.output = np.dot(inputs, self.weights) + self.biases\n",
    "\n",
    "    # Backward pass\n",
    "    def backward(self, dvalues):\n",
    "        # Gradient on parameters\n",
    "        self.dweights = np.dot(self.inputs.T, dvalues)\n",
    "        self.dbiases  = np.sum(dvalues, axis=0, keepdims=True)\n",
    "        # Gradient on values\n",
    "        self.dinputs  = np.dot(dvalues, self.weights.T)"
   ]
  },
  {
   "cell_type": "markdown",
   "metadata": {},
   "source": [
    "### ReLU activation"
   ]
  },
  {
   "cell_type": "code",
   "execution_count": 5,
   "metadata": {},
   "outputs": [],
   "source": [
    "class Activation_ReLU:\n",
    "\n",
    "    # Forward pass\n",
    "    def forward(self, inputs):\n",
    "        self.inputs = inputs\n",
    "\n",
    "        # Calculate output values from inputs\n",
    "        self.output = np.maximum(0, inputs)\n",
    "\n",
    "    # Backward pass\n",
    "    def backward(self, dvalues):\n",
    "        # Since we need to modify the original variable, \n",
    "        # let's make a copy of the variable first \n",
    "        self.dinputs = dvalues.copy()\n",
    "\n",
    "        # Zero gradient where input values were negative\n",
    "        self.dinputs[self.inputs <= 0] = 0"
   ]
  },
  {
   "cell_type": "markdown",
   "metadata": {},
   "source": [
    "### Softmax activation"
   ]
  },
  {
   "cell_type": "code",
   "execution_count": 6,
   "metadata": {},
   "outputs": [],
   "source": [
    "class Activation_Softmax:\n",
    "\n",
    "    # Forward pass\n",
    "    def forward(self, inputs):\n",
    "        # Remember input values\n",
    "        self.inputs = inputs\n",
    "\n",
    "        # Get unnormalized probabilities\n",
    "        exp_values = np.exp(inputs - np.max(inputs, axis=1, keepdims=True))\n",
    "\n",
    "        # Normalize them for each sample\n",
    "        probabilities = exp_values / np.sum(exp_values, axis=1, keepdims=True)\n",
    "\n",
    "        self.output = probabilities\n",
    "\n",
    "    # Backward pass\n",
    "    def backward(self, dvalues):\n",
    "\n",
    "        # Create uninitialized array\n",
    "        self.dinputs = np.empty_like(dvalues)\n",
    "\n",
    "        # Enumerate outputs and gradients\n",
    "        for index, (single_output, single_dvalues) in enumerate(zip(self.output, dvalues)):\n",
    "            # Flatten output array\n",
    "            single_output = single_output.reshape(-1,1)\n",
    "            # Calculate Jacobian matrix of the output ...\n",
    "            jacobian_matrix = np.diagflat(single_output) - np.dot(single_output, single_output.T)\n",
    "\n",
    "            # Calculate sample-wise gradient and add it to the array of sample gradients\n",
    "            self.dinputs[index] = np.dot(jacobian_matrix, single_dvalues)"
   ]
  },
  {
   "cell_type": "markdown",
   "metadata": {},
   "source": [
    "### Common loss class"
   ]
  },
  {
   "cell_type": "code",
   "execution_count": 7,
   "metadata": {},
   "outputs": [],
   "source": [
    "class Loss:\n",
    "\n",
    "    # Calculates the data and regularization losses\n",
    "    # given model output and ground truth values\n",
    "    def calculate(self, output, y):\n",
    "\n",
    "        # Calculate sample losses\n",
    "        sample_losses = self.forward(output, y)\n",
    "\n",
    "        # Calculate mean loss\n",
    "        return np.mean(sample_losses)\n",
    "\n",
    "    def forward(self, y_pred, y_true):\n",
    "        return []"
   ]
  },
  {
   "cell_type": "markdown",
   "metadata": {},
   "source": [
    "### Cross-entropy loss (subclass to Loss)"
   ]
  },
  {
   "cell_type": "code",
   "execution_count": 8,
   "metadata": {},
   "outputs": [],
   "source": [
    "class Loss_CategoricalCrossentropy(Loss):\n",
    "\n",
    "    # Forwad pass\n",
    "    def forward(self, y_pred, y_true):\n",
    "\n",
    "        # Number of samples in a batch\n",
    "        samples = len(y_pred)\n",
    "\n",
    "        # Clip data to prevent division by 0\n",
    "        # Clip both sides to not drag mean towards any value\n",
    "        y_pred_clipped = np.clip(y_pred, 1e-7, 1-1e-7)\n",
    "\n",
    "        # Probabilities for target values - \n",
    "        # only if categorical labels\n",
    "        # correct_confidences = 0  # Remove warning!\n",
    "        if len(y_true.shape) == 1:\n",
    "            correct_confidences = y_pred_clipped[range(samples), y_true]\n",
    "\n",
    "        # Mask values - only for one-hot encoded labels\n",
    "        elif len(y_true.shape) == 2:\n",
    "            correct_confidences = np.sum(y_pred_clipped * y_true, axis=1)\n",
    "        \n",
    "        #else:\n",
    "        #    print(\"ERROR!\")\n",
    "        #    correct_confidences = 0\n",
    "\n",
    "        # Losses\n",
    "        negative_log_likelihoods = -np.log(correct_confidences)\n",
    "        return negative_log_likelihoods\n",
    "\n",
    "    def backward(self, dvalues, y_true):\n",
    "\n",
    "        # Number of samples\n",
    "        samples = len(dvalues)\n",
    "        # Number of labels in every sample.\n",
    "        # We'll use the first sample to count them\n",
    "        labels = len(dvalues[0])\n",
    "\n",
    "        # If labels are sparse, turn them into one-hot vector \n",
    "        if len(y_true.shape) == 1:\n",
    "            y_true = np.eye(labels)[y_true]\n",
    "        \n",
    "        # Calculate gradient\n",
    "        self.dinputs = -y_true / dvalues\n",
    "\n",
    "        # Normalize gradient\n",
    "        self.dinputs = self.dinputs / samples"
   ]
  },
  {
   "cell_type": "markdown",
   "metadata": {},
   "source": [
    "### Activation_Softmax_Loss_CategoricalCrossEntropy"
   ]
  },
  {
   "cell_type": "code",
   "execution_count": 9,
   "metadata": {},
   "outputs": [],
   "source": [
    "# softmax classifier - combined Softmax activation\n",
    "# and cross-entropy loss for faster backward step\n",
    "class Activation_Softmax_Loss_CategoricalCrossentropy():\n",
    "\n",
    "    # Creates activation and loss funtion objects\n",
    "    def __init__(self):\n",
    "        self.activation = Activation_Softmax()\n",
    "        self.loss       = Loss_CategoricalCrossentropy()\n",
    "\n",
    "    # Forward pass\n",
    "    def forward(self, inputs, y_true):\n",
    "        # Output layer's activation function\n",
    "        self.activation.forward(inputs)\n",
    "        # Set the output\n",
    "        self.output = self.activation.output\n",
    "        # Calculate and return loss value\n",
    "        return self.loss.calculate(self.output, y_true)\n",
    "\n",
    "    # Backward pass\n",
    "    def backward(self, dvalues, y_true):\n",
    "        # Number of samples\n",
    "        samples = len(dvalues)\n",
    "        \n",
    "        # If labels are one-hot encoded, turn them into discrete values\n",
    "        if len(y_true.shape) == 2: \n",
    "            y_true = np.argmax(y_true, axis=1)\n",
    "            \n",
    "        # Copy so we can safely modify\n",
    "        self.dinputs = dvalues.copy()\n",
    "        # Calculate gradient\n",
    "        self.dinputs[range(samples), y_true] -= 1\n",
    "        # Normalize gradient\n",
    "        self.dinputs = self.dinputs / samples"
   ]
  },
  {
   "cell_type": "markdown",
   "metadata": {},
   "source": [
    "### Optimizer SGD (Stochastic Gradient Descent)"
   ]
  },
  {
   "cell_type": "code",
   "execution_count": 10,
   "metadata": {},
   "outputs": [],
   "source": [
    "class Optimizer_SGD:\n",
    "\n",
    "    # Initialize optimizer - set settings,\n",
    "    # learning rate of 1. is default for this optimizer\n",
    "\n",
    "    def __init__(self, learning_rate=1.0, decay=0.0, momentum=0.0):\n",
    "        self.learning_rate          = learning_rate \n",
    "        self.current_learning_rate  = learning_rate\n",
    "        self.decay                  = decay\n",
    "        self.iterations             = 0\n",
    "        self.momentum               = momentum\n",
    "    \n",
    "    # Call once before any parameters update\n",
    "    def pre_update_params(self):\n",
    "        if self.decay:\n",
    "            self.current_learning_rate = self.learning_rate * (1.0 / (1.0 + self.decay * self.iterations)) \n",
    "\n",
    "    def update_params(self, layer):\n",
    "        if self.momentum:\n",
    "\n",
    "            # If layer does not contain momentum arrays, create \n",
    "            # them filled with zeroes (weight and biases)\n",
    "            if not hasattr(layer, 'weight_momentums'):\n",
    "                layer.weight_momentums = np.zeros_like(layer.weights)\n",
    "                layer.bias_momentums   = np.zeros_like(layer.biases)\n",
    "\n",
    "            # Build weight updates with momentum - take previous \n",
    "            # updates multiplied by retain factor and update with\n",
    "            # current gradients\n",
    "            weight_updates = \\\n",
    "                self.momentum * layer.weight_momentums - self.current_learning_rate * layer.dweights\n",
    "            layer.weights_momentums = weight_updates\n",
    "\n",
    "            # .. and build biases updates \n",
    "            bias_updates = \\\n",
    "                self.momentum * layer.bias_momentums - self.current_learning_rate * layer.dbiases\n",
    "            layer.bias_momentum = bias_updates\n",
    "\n",
    "        else:   \n",
    "            weight_updates = -self.current_learning_rate * layer.dweights\n",
    "            bias_updates   = -self.current_learning_rate * layer.dbiases\n",
    "        \n",
    "        layer.weights += weight_updates\n",
    "        layer.biases  += bias_updates\n",
    "        \n",
    "    # Call once after any parameters updates\n",
    "    def post_update_params(self):\n",
    "        self.iterations += 1"
   ]
  },
  {
   "cell_type": "markdown",
   "metadata": {},
   "source": [
    "### Optimizer AdaGrad - [Adaptive Gradient]"
   ]
  },
  {
   "cell_type": "code",
   "execution_count": 11,
   "metadata": {},
   "outputs": [],
   "source": [
    "class Optimizer_Adagrad:\n",
    "    \n",
    "    # Initialize optimizer - set settings\n",
    "    def __init__(self, learning_rate=1.0, decay=0.0, epsilon=1e-7):\n",
    "        self.learning_rate          = learning_rate\n",
    "        self.current_learning_rate  = learning_rate\n",
    "        self.decay                  = decay\n",
    "        self.iterations             = 0\n",
    "        self.epsilon                = epsilon\n",
    "\n",
    "    # Call once before any parameters updates\n",
    "    def pre_update_params(self):\n",
    "        if self.decay:\n",
    "            self.current_learning_rate = self.learning_rate * \\\n",
    "                (1. / (1. + self.decay * self.iterations))\n",
    "\n",
    "    # Update parameters\n",
    "    def update_params(self, layer):\n",
    "\n",
    "        # Add cache array if layer does not have them\n",
    "        if not hasattr(layer, 'weight_cache'):\n",
    "            layer.weight_cache = np.zeros_like(layer.weights)\n",
    "            layer.bias_cache   = np.zeros_like(layer.biases )\n",
    "\n",
    "        # Update cache with squared current gradient\n",
    "        layer.weight_cache += layer.dweights**2\n",
    "        layer.bias_cache   += layer.dbiases**2\n",
    "\n",
    "        # Vanilla SGD Parameter update + normalization with square root cache\n",
    "        layer.weights += -self.current_learning_rate * layer.dweights / (np.sqrt(layer.weight_cache) + self.epsilon)\n",
    "        layer.biases  += -self.current_learning_rate * layer.dbiases  / (np.sqrt(layer.bias_cache) + self.epsilon)\n",
    "\n",
    "    # Call once after any parameter updates\n",
    "    def post_update_params(self):\n",
    "        self.iterations += 1"
   ]
  },
  {
   "cell_type": "markdown",
   "metadata": {},
   "source": [
    "### Optimizer RMSprop - [Root Mean Square Propagation]"
   ]
  },
  {
   "cell_type": "code",
   "execution_count": 12,
   "metadata": {},
   "outputs": [],
   "source": [
    "class Optimizer_RMSprop:\n",
    "\n",
    "    # Initialize optimizer\n",
    "    def __init__(self, learning_rate=0.001, decay=0.0, epsilon=1e-7, rho=0.9):\n",
    "        self.learning_rate = learning_rate\n",
    "        self.current_learning_rate = learning_rate\n",
    "        self.decay = decay\n",
    "        self.iterations = 0\n",
    "        self.epsilon = epsilon\n",
    "        self.rho = rho\n",
    "\n",
    "    # Call once before any parameter updates\n",
    "    def pre_update_params(self):\n",
    "        if self.decay:\n",
    "            self.current_learning_rate = self.learning_rate * (1. / (1. + self.decay*self.iterations))\n",
    "    \n",
    "    # Update params\n",
    "    def update_params(self, layer):\n",
    "\n",
    "        # Add cache array if layer does not have them\n",
    "        if not hasattr(layer, 'weight_cache'):\n",
    "            layer.weight_cache = np.zeros_like(layer.weights)\n",
    "            layer.bias_cache   = np.zeros_like(layer.biases )\n",
    "\n",
    "        # Update cache with squared current gradient\n",
    "        layer.weight_cache = self.rho * layer.weight_cache + (1-self.rho) * layer.dweights**2\n",
    "        layer.bias_cache   = self.rho * layer.bias_cache   + (1-self.rho) * layer.dbiases**2\n",
    "\n",
    "        # Vanilla SGD parameter update + normalization with squared cache\n",
    "        layer.weights += -self.current_learning_rate * layer.dweights / (np.sqrt(layer.weight_cache) + self.epsilon)\n",
    "        layer.biases  += -self.current_learning_rate * layer.dbiases  / (np.sqrt(layer.bias_cache)   + self.epsilon)\n",
    "\n",
    "    # Call once after any parameter updates\n",
    "    def post_update_params(self):\n",
    "        self.iterations += 1"
   ]
  },
  {
   "cell_type": "markdown",
   "metadata": {},
   "source": [
    "### Optimizer Adam - [Adaptive Momentum]"
   ]
  },
  {
   "cell_type": "code",
   "execution_count": 13,
   "metadata": {},
   "outputs": [],
   "source": [
    "class Optimizer_Adam:\n",
    "\n",
    "    # Initialize optimizer\n",
    "    def __init__(self, learning_rate=0.001, decay=0.0, epsilon=1e-7, beta_1=0.9, beta_2=0.999):\n",
    "        self.learning_rate          = learning_rate\n",
    "        self.current_learning_rate  = learning_rate\n",
    "        self.decay                  = decay\n",
    "        self.iterations             = 0\n",
    "        self.epsilon                = epsilon\n",
    "        self.beta_1                 = beta_1\n",
    "        self.beta_2                 = beta_2\n",
    "\n",
    "    # Call once before any parameter updates\n",
    "    def pre_update_params(self):\n",
    "        if self.decay:\n",
    "            self.current_learning_rate = \\\n",
    "                self.learning_rate * (1.0 / (1.0+self.decay * self.iterations))\n",
    "    \n",
    "    # Update parameters\n",
    "    def update_params(self, layer):\n",
    "\n",
    "        # Create cache arrays if not exist\n",
    "        if not hasattr(layer, 'weight_cache'):\n",
    "            layer.weight_momentums = np.zeros_like(layer.weights)\n",
    "            layer.weight_cache     = np.zeros_like(layer.weights)\n",
    "            layer.bias_momentums   = np.zeros_like(layer.biases)\n",
    "            layer.bias_cache       = np.zeros_like(layer.biases)\n",
    "\n",
    "        # Update momentum with current gradients\n",
    "        layer.weight_momentums = \\\n",
    "            self.beta_1 * layer.weight_momentums + (1-self.beta_1)*layer.dweights\n",
    "        layer.bias_momentums = \\\n",
    "            self.beta_1 * layer.bias_momentums   + (1-self.beta_1)*layer.dbiases\n",
    "\n",
    "        # Get corrected momentum\n",
    "        # self.iteration is 0 at first pass\n",
    "        # and we need to start with 1 here\n",
    "        weight_momentums_corrected = layer.weight_momentums / (1 - self.beta_1 ** (self.iterations+1))\n",
    "        bias_momentums_corrected   = layer.bias_momentums   / (1 - self.beta_1 ** (self.iterations+1))\n",
    "\n",
    "        # Update cache with squared current gradients\n",
    "        layer.weight_cache = \\\n",
    "            self.beta_2 * layer.weight_cache + (1-self.beta_2)*layer.dweights**2\n",
    "        layer.bias_cache = \\\n",
    "            self.beta_2 * layer.bias_cache   + (1-self.beta_2)*layer.dbiases**2\n",
    "\n",
    "        # Get corrected cache\n",
    "        weight_cache_corrected = layer.weight_cache / (1-self.beta_2**(self.iterations+1))\n",
    "        bias_cache_corrected   = layer.bias_cache   / (1-self.beta_2**(self.iterations+1))\n",
    "\n",
    "        # Vanilla SGD parameter update + normalization with sqrt cache\n",
    "        layer.weights += -self.current_learning_rate * weight_momentums_corrected / (np.sqrt(weight_cache_corrected) + self.epsilon)\n",
    "        layer.biases  += -self.current_learning_rate * bias_momentums_corrected   / (np.sqrt(bias_cache_corrected)   + self.epsilon)\n",
    "\n",
    "    # Call once after any parameter updates\n",
    "    def post_update_params(self):\n",
    "        self.iterations += 1"
   ]
  },
  {
   "cell_type": "markdown",
   "metadata": {
    "tags": []
   },
   "source": [
    "### Run The model"
   ]
  },
  {
   "cell_type": "code",
   "execution_count": 14,
   "metadata": {},
   "outputs": [],
   "source": [
    "# Create Dataset\n",
    "X, y = spiral_data(samples=100, classes=3)\n",
    "\n",
    "# Create the network model. \n",
    "dense1      = Layer_Dense(2, 64)\n",
    "activation1 = Activation_ReLU()\n",
    "dense2      = Layer_Dense(64,3)\n",
    "\n",
    "# Create Softmax combined loss and activation\n",
    "loss_activation = Activation_Softmax_Loss_CategoricalCrossentropy()\n",
    "\n",
    "# Create optimizer\n",
    "#optimizer = Optimizer_SGD(learning_rate=1.0, decay=8e-8, momentum=0.9)\n",
    "optimizer       = Optimizer_Adam(learning_rate=0.02, decay=1e-5)\n",
    "\n"
   ]
  },
  {
   "cell_type": "code",
   "execution_count": 15,
   "metadata": {},
   "outputs": [
    {
     "name": "stdout",
     "output_type": "stream",
     "text": [
      "epoch: 00000 | acc: 0.360 | loss: 1.099 | lr: 0.02\n",
      "epoch: 00100 | acc: 0.673 | loss: 0.769 | lr: 0.01998021958261321\n",
      "epoch: 00200 | acc: 0.813 | loss: 0.552 | lr: 0.019960279044701046\n",
      "epoch: 00300 | acc: 0.840 | loss: 0.445 | lr: 0.019940378268975763\n",
      "epoch: 00400 | acc: 0.863 | loss: 0.380 | lr: 0.01992051713662487\n",
      "epoch: 00500 | acc: 0.873 | loss: 0.336 | lr: 0.01990069552930875\n",
      "epoch: 00600 | acc: 0.890 | loss: 0.308 | lr: 0.019880913329158343\n",
      "epoch: 00700 | acc: 0.890 | loss: 0.287 | lr: 0.019861170418772778\n",
      "epoch: 00800 | acc: 0.907 | loss: 0.269 | lr: 0.019841466681217078\n",
      "epoch: 00900 | acc: 0.910 | loss: 0.250 | lr: 0.01982180200001982\n",
      "epoch: 01000 | acc: 0.913 | loss: 0.238 | lr: 0.019802176259170884\n",
      "epoch: 01100 | acc: 0.910 | loss: 0.230 | lr: 0.01978258934311912\n",
      "epoch: 01200 | acc: 0.913 | loss: 0.219 | lr: 0.01976304113677013\n",
      "epoch: 01300 | acc: 0.920 | loss: 0.210 | lr: 0.019743531525483964\n",
      "epoch: 01400 | acc: 0.910 | loss: 0.202 | lr: 0.01972406039507293\n",
      "epoch: 01500 | acc: 0.917 | loss: 0.192 | lr: 0.019704627631799327\n",
      "epoch: 01600 | acc: 0.920 | loss: 0.187 | lr: 0.019685233122373254\n",
      "epoch: 01700 | acc: 0.937 | loss: 0.184 | lr: 0.019665876753950384\n",
      "epoch: 01800 | acc: 0.930 | loss: 0.172 | lr: 0.01964655841412981\n",
      "epoch: 01900 | acc: 0.933 | loss: 0.167 | lr: 0.019627277990951823\n",
      "epoch: 02000 | acc: 0.933 | loss: 0.162 | lr: 0.019608035372895814\n",
      "epoch: 02100 | acc: 0.933 | loss: 0.158 | lr: 0.01958883044887805\n",
      "epoch: 02200 | acc: 0.933 | loss: 0.154 | lr: 0.019569663108249594\n",
      "epoch: 02300 | acc: 0.943 | loss: 0.151 | lr: 0.01955053324079414\n",
      "epoch: 02400 | acc: 0.953 | loss: 0.150 | lr: 0.019531440736725945\n",
      "epoch: 02500 | acc: 0.940 | loss: 0.145 | lr: 0.019512385486687673\n",
      "epoch: 02600 | acc: 0.947 | loss: 0.142 | lr: 0.019493367381748363\n",
      "epoch: 02700 | acc: 0.950 | loss: 0.140 | lr: 0.019474386313401298\n",
      "epoch: 02800 | acc: 0.947 | loss: 0.137 | lr: 0.019455442173562\n",
      "epoch: 02900 | acc: 0.950 | loss: 0.135 | lr: 0.019436534854566128\n",
      "epoch: 03000 | acc: 0.947 | loss: 0.132 | lr: 0.01941766424916747\n",
      "epoch: 03100 | acc: 0.940 | loss: 0.138 | lr: 0.019398830250535893\n",
      "epoch: 03200 | acc: 0.953 | loss: 0.129 | lr: 0.019380032752255354\n",
      "epoch: 03300 | acc: 0.947 | loss: 0.127 | lr: 0.01936127164832186\n",
      "epoch: 03400 | acc: 0.947 | loss: 0.125 | lr: 0.01934254683314152\n",
      "epoch: 03500 | acc: 0.947 | loss: 0.124 | lr: 0.019323858201528515\n",
      "epoch: 03600 | acc: 0.950 | loss: 0.123 | lr: 0.019305205648703173\n",
      "epoch: 03700 | acc: 0.947 | loss: 0.122 | lr: 0.01928658907028997\n",
      "epoch: 03800 | acc: 0.947 | loss: 0.120 | lr: 0.01926800836231563\n",
      "epoch: 03900 | acc: 0.950 | loss: 0.119 | lr: 0.019249463421207133\n",
      "epoch: 04000 | acc: 0.960 | loss: 0.120 | lr: 0.019230954143789846\n",
      "epoch: 04100 | acc: 0.953 | loss: 0.118 | lr: 0.019212480427285565\n",
      "epoch: 04200 | acc: 0.953 | loss: 0.118 | lr: 0.019194042169310647\n",
      "epoch: 04300 | acc: 0.963 | loss: 0.119 | lr: 0.019175639267874092\n",
      "epoch: 04400 | acc: 0.950 | loss: 0.118 | lr: 0.019157271621375684\n",
      "epoch: 04500 | acc: 0.953 | loss: 0.115 | lr: 0.0191389391286041\n",
      "epoch: 04600 | acc: 0.963 | loss: 0.114 | lr: 0.019120641688735073\n",
      "epoch: 04700 | acc: 0.950 | loss: 0.115 | lr: 0.019102379201329525\n",
      "epoch: 04800 | acc: 0.953 | loss: 0.112 | lr: 0.01908415156633174\n",
      "epoch: 04900 | acc: 0.957 | loss: 0.111 | lr: 0.01906595868406753\n",
      "epoch: 05000 | acc: 0.947 | loss: 0.110 | lr: 0.01904780045524243\n",
      "epoch: 05100 | acc: 0.953 | loss: 0.107 | lr: 0.019029676780939874\n",
      "epoch: 05200 | acc: 0.957 | loss: 0.106 | lr: 0.019011587562619416\n",
      "epoch: 05300 | acc: 0.957 | loss: 0.105 | lr: 0.01899353270211493\n",
      "epoch: 05400 | acc: 0.953 | loss: 0.104 | lr: 0.018975512101632844\n",
      "epoch: 05500 | acc: 0.950 | loss: 0.105 | lr: 0.018957525663750367\n",
      "epoch: 05600 | acc: 0.957 | loss: 0.102 | lr: 0.018939573291413745\n",
      "epoch: 05700 | acc: 0.960 | loss: 0.111 | lr: 0.018921654887936498\n",
      "epoch: 05800 | acc: 0.963 | loss: 0.100 | lr: 0.018903770356997706\n",
      "epoch: 05900 | acc: 0.957 | loss: 0.100 | lr: 0.018885919602640248\n",
      "epoch: 06000 | acc: 0.960 | loss: 0.098 | lr: 0.018868102529269144\n",
      "epoch: 06100 | acc: 0.960 | loss: 0.098 | lr: 0.018850319041649778\n",
      "epoch: 06200 | acc: 0.967 | loss: 0.097 | lr: 0.018832569044906263\n",
      "epoch: 06300 | acc: 0.960 | loss: 0.096 | lr: 0.018814852444519702\n",
      "epoch: 06400 | acc: 0.963 | loss: 0.096 | lr: 0.018797169146326564\n",
      "epoch: 06500 | acc: 0.957 | loss: 0.095 | lr: 0.01877951905651696\n",
      "epoch: 06600 | acc: 0.967 | loss: 0.095 | lr: 0.018761902081633034\n",
      "epoch: 06700 | acc: 0.967 | loss: 0.094 | lr: 0.018744318128567278\n",
      "epoch: 06800 | acc: 0.967 | loss: 0.093 | lr: 0.018726767104560903\n",
      "epoch: 06900 | acc: 0.967 | loss: 0.093 | lr: 0.018709248917202218\n",
      "epoch: 07000 | acc: 0.967 | loss: 0.092 | lr: 0.018691763474424996\n",
      "epoch: 07100 | acc: 0.967 | loss: 0.092 | lr: 0.018674310684506857\n",
      "epoch: 07200 | acc: 0.967 | loss: 0.091 | lr: 0.01865689045606769\n",
      "epoch: 07300 | acc: 0.963 | loss: 0.090 | lr: 0.01863950269806802\n",
      "epoch: 07400 | acc: 0.967 | loss: 0.090 | lr: 0.018622147319807447\n",
      "epoch: 07500 | acc: 0.960 | loss: 0.089 | lr: 0.018604824230923075\n",
      "epoch: 07600 | acc: 0.967 | loss: 0.089 | lr: 0.01858753334138793\n",
      "epoch: 07700 | acc: 0.960 | loss: 0.091 | lr: 0.018570274561509396\n",
      "epoch: 07800 | acc: 0.960 | loss: 0.088 | lr: 0.018553047801927663\n",
      "epoch: 07900 | acc: 0.970 | loss: 0.089 | lr: 0.018535852973614212\n",
      "epoch: 08000 | acc: 0.967 | loss: 0.088 | lr: 0.01851868998787026\n",
      "epoch: 08100 | acc: 0.963 | loss: 0.087 | lr: 0.018501558756325222\n",
      "epoch: 08200 | acc: 0.967 | loss: 0.088 | lr: 0.01848445919093522\n",
      "epoch: 08300 | acc: 0.963 | loss: 0.086 | lr: 0.018467391203981567\n",
      "epoch: 08400 | acc: 0.960 | loss: 0.085 | lr: 0.018450354708069265\n",
      "epoch: 08500 | acc: 0.960 | loss: 0.085 | lr: 0.018433349616125496\n",
      "epoch: 08600 | acc: 0.963 | loss: 0.085 | lr: 0.018416375841398172\n",
      "epoch: 08700 | acc: 0.960 | loss: 0.084 | lr: 0.01839943329745444\n",
      "epoch: 08800 | acc: 0.967 | loss: 0.084 | lr: 0.01838252189817921\n",
      "epoch: 08900 | acc: 0.963 | loss: 0.084 | lr: 0.018365641557773718\n",
      "epoch: 09000 | acc: 0.960 | loss: 0.083 | lr: 0.018348792190754044\n",
      "epoch: 09100 | acc: 0.963 | loss: 0.083 | lr: 0.0183319737119497\n",
      "epoch: 09200 | acc: 0.973 | loss: 0.085 | lr: 0.018315186036502167\n",
      "epoch: 09300 | acc: 0.960 | loss: 0.086 | lr: 0.018298429079863496\n",
      "epoch: 09400 | acc: 0.967 | loss: 0.083 | lr: 0.018281702757794862\n",
      "epoch: 09500 | acc: 0.967 | loss: 0.082 | lr: 0.018265006986365174\n",
      "epoch: 09600 | acc: 0.970 | loss: 0.090 | lr: 0.018248341681949654\n",
      "epoch: 09700 | acc: 0.963 | loss: 0.081 | lr: 0.018231706761228456\n",
      "epoch: 09800 | acc: 0.967 | loss: 0.082 | lr: 0.018215102141185255\n",
      "epoch: 09900 | acc: 0.963 | loss: 0.081 | lr: 0.018198527739105907\n",
      "epoch: 10000 | acc: 0.967 | loss: 0.081 | lr: 0.018181983472577025\n"
     ]
    }
   ],
   "source": [
    "# Train in loop\n",
    "for epoch in range(10001):\n",
    "\n",
    "    # Forward pass\n",
    "    dense1.forward(X)\n",
    "    activation1.forward(dense1.output)\n",
    "    dense2.forward(activation1.output)\n",
    "\n",
    "    # Loss \n",
    "    loss = loss_activation.forward(dense2.output, y)\n",
    "    \n",
    "    # Calculate accuracy. Calculate values along first axis\n",
    "    predictions = np.argmax(loss_activation.output, axis=1)\n",
    "    if len(y.shape) == 2: \n",
    "        y = np.argmax(y, axis=1)\n",
    "    accuracy = np.mean(predictions == y)\n",
    "\n",
    "    if not epoch % 100: \n",
    "        print(f\"epoch: {epoch:05d} | acc: {accuracy:.3f} | loss: {loss:.3f} | lr: {optimizer.current_learning_rate}\")\n",
    "\n",
    "    # Backward pass\n",
    "    loss_activation.backward(loss_activation.output, y)\n",
    "    dense2.backward(loss_activation.dinputs)\n",
    "    activation1.backward(dense2.dinputs)\n",
    "    dense1.backward(activation1.dinputs)\n",
    "\n",
    "    # Update weights and biases\n",
    "    optimizer.pre_update_params()\n",
    "    optimizer.update_params(dense1)\n",
    "    optimizer.update_params(dense2)\n",
    "    optimizer.post_update_params()\n",
    "    "
   ]
  },
  {
   "cell_type": "code",
   "execution_count": 39,
   "metadata": {},
   "outputs": [
    {
     "data": {
      "image/png": "[encoded data removed]",
      "text/plain": [
       "<Figure size 640x480 with 1 Axes>"
      ]
     },
     "metadata": {},
     "output_type": "display_data"
    }
   ],
   "source": [
    "import numpy as np\n",
    "import matplotlib.pyplot as plt\n",
    "import matplotlib.cm as cm\n",
    "import torch\n",
    "from torch import nn\n",
    "import torch.nn.functional as F\n",
    "\n",
    "# Visualuze data\n",
    "plt.title(\"Generated non-linear data\")\n",
    "colors = {0: 'red', 1: 'yellow', 2: 'blue'}\n",
    "plt.scatter(X[:,0], X[:,1], c=[colors[_y] for _y in y], edgecolors='k', s=25)\n",
    "plt.show()"
   ]
  },
  {
   "cell_type": "code",
   "execution_count": 67,
   "metadata": {},
   "outputs": [
    {
     "name": "stdout",
     "output_type": "stream",
     "text": [
      "x_min, x_max:  -1.0793868064880372 1.069426989555359\n",
      "y_min, y_max:  -1.0326150417327882 1.0386551380157472\n",
      "(101,) (101,) (101,)\n"
     ]
    },
    {
     "data": {
      "image/png": "[encoded data removed]",
      "text/plain": [
       "<Figure size 1200x500 with 1 Axes>"
      ]
     },
     "metadata": {},
     "output_type": "display_data"
    }
   ],
   "source": [
    "plt.figure(figsize=(12,5))\n",
    "plt.subplot(1, 2, 1)\n",
    "plt.title(\"Train\")\n",
    "\n",
    "x_min, x_max = X[:,0].min() - 0.1, X[:,0].max() + 0.1\n",
    "y_min, y_max = X[:,1].min() - 0.1, X[:,1].max() + 0.1\n",
    "print(\"x_min, x_max: \", x_min, x_max)\n",
    "print(\"y_min, y_max: \", y_min, y_max)\n",
    "t = np.linspace(x_min, x_max, 101)\n",
    "# print(\"t: \", t)\n",
    "xx,yy = np.linspace(y_min, y_max, 101), np.linspace(y_min, y_max, 101)\n",
    "cmap = plt.cm.Spectral\n",
    "\n",
    "X_test = np.c_[xx.ravel(), yy.ravel()]\n",
    "dense1.forward(X_test)\n",
    "activation1.forward(dense1.output)\n",
    "dense2.forward(activation1.output)\n",
    "\n",
    "y_pred = F.softmax(torch.from_numpy(dense2.output), dim=1)\n",
    "_, y_pred = y_pred.max(dim=1)\n",
    "y_pred = y_pred.reshape(xx.shape).numpy()\n",
    "\n",
    "print(xx.shape, yy.shape, y_pred.shape)\n",
    "\n",
    "#plt.contourf(xx, yy, y_pred, cmap=plt.cm.Spectral, alpha=0.8)\n",
    "## plt.scatter(X[:, 0], X[:, 1], c=y, s=40, cmap=plt.cm.RdYlBu)\n",
    "## plt.xlim(xx.min(), xx.max())\n",
    "## plt.ylim(yy.min(), yy.max())\n",
    "## \n",
    "## plt.show()"
   ]
  },
  {
   "cell_type": "code",
   "execution_count": 56,
   "metadata": {},
   "outputs": [
    {
     "data": {
      "text/plain": [
       "((101,), (101,), torch.Size([101]))"
      ]
     },
     "execution_count": 56,
     "metadata": {},
     "output_type": "execute_result"
    }
   ],
   "source": [
    "xx.shape, yy.shape, y_pred.shape"
   ]
  },
  {
   "cell_type": "code",
   "execution_count": null,
   "metadata": {},
   "outputs": [],
   "source": [
    "def plot_multiclass_decision_boundary(model, X, y):\n",
    "    x_min, x_max = X[:,0].min() - 0.1, X[:,0].max() + 0.1\n",
    "    y_min, y_max = X[:,1].min() - 0.1, X[:,1].max() + 0.1\n",
    "\n",
    "    xx, yy = np.linspace(y_min, y_max, 101), np.linspace(y_min, y_max, 101)\n",
    "    cmap = plt.cm.Spectral_r\n",
    "\n",
    "    \n",
    "\n",
    "    \n"
   ]
  },
  {
   "cell_type": "code",
   "execution_count": null,
   "metadata": {},
   "outputs": [
    {
     "ename": "NameError",
     "evalue": "name 'torch' is not defined",
     "output_type": "error",
     "traceback": [
      "\u001b[1;31m---------------------------------------------------------------------------\u001b[0m",
      "\u001b[1;31mNameError\u001b[0m                                 Traceback (most recent call last)",
      "Cell \u001b[1;32mIn [14], line 1\u001b[0m\n\u001b[1;32m----> 1\u001b[0m \u001b[39mdef\u001b[39;00m \u001b[39mplot_decision_boundary\u001b[39m(model: torch\u001b[39m.\u001b[39mnn\u001b[39m.\u001b[39mModule, X: torch\u001b[39m.\u001b[39mTensor, y: torch\u001b[39m.\u001b[39mTensor):\n\u001b[0;32m      2\u001b[0m     \u001b[39m\"\"\"Plots decision boundaries of model predicting on X in comparison to y.\u001b[39;00m\n\u001b[0;32m      3\u001b[0m \n\u001b[0;32m      4\u001b[0m \u001b[39m    Source - https://madewithml.com/courses/foundations/neural-networks/ (with modifications)\u001b[39;00m\n\u001b[0;32m      5\u001b[0m \u001b[39m    \"\"\"\u001b[39;00m\n\u001b[0;32m      6\u001b[0m     \u001b[39m# Put everything to CPU (works better with NumPy + Matplotlib)\u001b[39;00m\n",
      "\u001b[1;31mNameError\u001b[0m: name 'torch' is not defined"
     ]
    }
   ],
   "source": [
    "def plot_decision_boundary(model: torch.nn.Module, X: torch.Tensor, y: torch.Tensor):\n",
    "    \"\"\"Plots decision boundaries of model predicting on X in comparison to y.\n",
    "\n",
    "    Source - https://madewithml.com/courses/foundations/neural-networks/ (with modifications)\n",
    "    \"\"\"\n",
    "    # Put everything to CPU (works better with NumPy + Matplotlib)\n",
    "    model.to(\"cpu\")\n",
    "    X, y = X.to(\"cpu\"), y.to(\"cpu\")\n",
    "\n",
    "    # Setup prediction boundaries and grid\n",
    "    x_min, x_max = X[:, 0].min() - 0.1, X[:, 0].max() + 0.1\n",
    "    y_min, y_max = X[:, 1].min() - 0.1, X[:, 1].max() + 0.1\n",
    "    xx, yy = np.meshgrid(np.linspace(x_min, x_max, 101), np.linspace(y_min, y_max, 101))\n",
    "\n",
    "    # Make features\n",
    "    X_to_pred_on = torch.from_numpy(np.column_stack((xx.ravel(), yy.ravel()))).float()\n",
    "\n",
    "    # Make predictions\n",
    "    model.eval()\n",
    "    with torch.inference_mode():\n",
    "        y_logits = model(X_to_pred_on)\n",
    "\n",
    "    # Test for multi-class or binary and adjust logits to prediction labels\n",
    "    if len(torch.unique(y)) > 2:\n",
    "        y_pred = torch.softmax(y_logits, dim=1).argmax(dim=1)  # multi-class\n",
    "    else:\n",
    "        y_pred = torch.round(torch.sigmoid(y_logits))  # binary\n",
    "\n",
    "    # Reshape preds and plot\n",
    "    y_pred = y_pred.reshape(xx.shape).detach().numpy()\n",
    "    \n",
    "    plt.contourf(xx, yy, y_pred, cmap=plt.cm.RdYlBu, alpha=0.7)\n",
    "    plt.scatter(X[:, 0], X[:, 1], c=y, s=40, cmap=plt.cm.RdYlBu)\n",
    "    plt.xlim(xx.min(), xx.max())\n",
    "    plt.ylim(yy.min(), yy.max())\n"
   ]
  },
  {
   "cell_type": "code",
   "execution_count": null,
   "metadata": {},
   "outputs": [],
   "source": [
    "# Plot decision boundary of the model\n",
    "plt.figure(figsize=(12, 6))\n",
    "plt.subplot(1,2,1)\n",
    "plt.title(\"Train\")\n",
    "plot_decision_boundary(model_0, X_train, y_train)\n",
    "plt.subplot(1,2,2)\n",
    "plt.title(\"Test\")\n",
    "plot_decision_boundary(model_0, X_test, y_test)\n"
   ]
  },
  {
   "cell_type": "code",
   "execution_count": null,
   "metadata": {},
   "outputs": [
    {
     "data": {
      "text/plain": [
       "array([0, 0, 0, 0, 0, 0, 0, 0, 0, 0, 0, 0, 0, 0, 0, 0, 0, 0, 0, 0, 0, 0,\n",
       "       0, 0, 0, 0, 0, 0, 0, 0], dtype=uint8)"
      ]
     },
     "execution_count": 20,
     "metadata": {},
     "output_type": "execute_result"
    }
   ],
   "source": [
    "y[:30]"
   ]
  },
  {
   "cell_type": "code",
   "execution_count": null,
   "metadata": {},
   "outputs": [],
   "source": []
  }
 ],
 "metadata": {
  "kernelspec": {
   "display_name": "Python 3.9.13 64-bit (microsoft store)",
   "language": "python",
   "name": "python3"
  },
  "language_info": {
   "codemirror_mode": {
    "name": "ipython",
    "version": 3
   },
   "file_extension": ".py",
   "mimetype": "text/x-python",
   "name": "python",
   "nbconvert_exporter": "python",
   "pygments_lexer": "ipython3",
   "version": "3.9.13"
  },
  "orig_nbformat": 4,
  "vscode": {
   "interpreter": {
    "hash": "a8a3a8840d1b031f75a2a8404321b24da973faff270bc4dd0b1948a8f61d7454"
   }
  }
 },
 "nbformat": 4,
 "nbformat_minor": 2
}
