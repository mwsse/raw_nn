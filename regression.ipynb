{
 "cells": [
  {
   "cell_type": "code",
   "execution_count": 348,
   "metadata": {},
   "outputs": [
    {
     "data": {
      "image/png": "[encoded data removed]",
      "text/plain": [
       "<Figure size 640x480 with 1 Axes>"
      ]
     },
     "metadata": {},
     "output_type": "display_data"
    }
   ],
   "source": [
    "import matplotlib.pyplot as plt\n",
    "import nnfs\n",
    "from nnfs.datasets import sine_data\n",
    "import numpy as np\n",
    "\n",
    "nnfs.init()\n",
    "\n",
    "X, y = sine_data()\n",
    "\n",
    "plt.plot(X, y)\n",
    "plt.show()"
   ]
  },
  {
   "cell_type": "markdown",
   "metadata": {},
   "source": [
    "### Dense Layer"
   ]
  },
  {
   "cell_type": "code",
   "execution_count": 349,
   "metadata": {},
   "outputs": [],
   "source": [
    "class Layer_Dense:\n",
    "\n",
    "    # Layer initialization\n",
    "    def __init__(self, n_inputs, n_neurons,\n",
    "                weight_regularizer_l1=0., weight_regularizer_l2=0., \n",
    "                bias_regularizer_l1=0., bias_regularizer_l2=0.):\n",
    "\n",
    "        # Initialize weights and biases\n",
    "        self.weights = 0.01 * np.random.randn(n_inputs, n_neurons)\n",
    "        self.biases  = np.zeros((1, n_neurons))\n",
    "        self.dinputs = 0\n",
    "        \n",
    "        # Set regularization strength\n",
    "        self.weight_regularizer_l1 = weight_regularizer_l1\n",
    "        self.weight_regularizer_l2 = weight_regularizer_l2\n",
    "        self.bias_regularizer_l1   = bias_regularizer_l1\n",
    "        self.bias_regularizer_l2   = bias_regularizer_l2\n",
    "\n",
    "    # Forward pass\n",
    "    def forward(self, inputs):\n",
    "        self.inputs = inputs\n",
    "        # Calculate output values from inputs, weights and biases\n",
    "        self.output = np.dot(inputs, self.weights) + self.biases\n",
    "\n",
    "    # Backward pass\n",
    "    def backward(self, dvalues):\n",
    "        # Gradient on parameters\n",
    "        self.dweights = np.dot(self.inputs.T, dvalues)\n",
    "        self.dbiases  = np.sum(dvalues, axis=0, keepdims=True)\n",
    "        \n",
    "        # Gradient on regularization\n",
    "        if self.weight_regularizer_l1 > 0:\n",
    "            dL1 = np.ones_like(self.weights)\n",
    "            dL1[self.weights < 0] = -1\n",
    "            self.dweights += self.weight_regularizer_l1 * dL1\n",
    "\n",
    "        if self.weight_regularizer_l2 > 0:\n",
    "            self.dweights += 2 * self.weight_regularizer_l2 * self.weights\n",
    "        \n",
    "        if self.bias_regularizer_l1 > 0:\n",
    "            dL1 = np.ones_like(self.biases)\n",
    "            dL1[self.biases < 0] = -1\n",
    "            self.dbiases += self.bias_regularizer_l1 * dL1\n",
    "\n",
    "        if self.bias_regularizer_l2 > 0:\n",
    "            self.dbiases += 2 * self.bias_regularizer_l2 * self.biases\n",
    "        \n",
    "        # Gradient on values\n",
    "        self.dinputs  = np.dot(dvalues, self.weights.T)"
   ]
  },
  {
   "cell_type": "markdown",
   "metadata": {},
   "source": [
    "### ReLU activation"
   ]
  },
  {
   "cell_type": "code",
   "execution_count": 350,
   "metadata": {},
   "outputs": [],
   "source": [
    "class Activation_ReLU:\n",
    "\n",
    "    # Forward pass\n",
    "    def forward(self, inputs):\n",
    "        self.inputs = inputs\n",
    "\n",
    "        # Calculate output values from inputs\n",
    "        self.output = np.maximum(0, inputs)\n",
    "        self.dinputs = 0\n",
    "\n",
    "    # Backward pass\n",
    "    def backward(self, dvalues):\n",
    "        # Since we need to modify the original variable, \n",
    "        # let's make a copy of the variable first \n",
    "        self.dinputs = dvalues.copy()\n",
    "\n",
    "        # Zero gradient where input values were negative\n",
    "        self.dinputs[self.inputs <= 0] = 0"
   ]
  },
  {
   "cell_type": "markdown",
   "metadata": {},
   "source": [
    "### Optimizer Adam - [Adaptive Momentum]"
   ]
  },
  {
   "cell_type": "code",
   "execution_count": 351,
   "metadata": {},
   "outputs": [],
   "source": [
    "class Optimizer_Adam:\n",
    "\n",
    "    # Initialize optimizer\n",
    "    def __init__(self, learning_rate=0.001, decay=0.0, epsilon=1e-7, beta_1=0.9, beta_2=0.999):\n",
    "        self.learning_rate          = learning_rate\n",
    "        self.current_learning_rate  = learning_rate\n",
    "        self.decay                  = decay\n",
    "        self.iterations             = 0\n",
    "        self.epsilon                = epsilon\n",
    "        self.beta_1                 = beta_1\n",
    "        self.beta_2                 = beta_2\n",
    "\n",
    "    # Call once before any parameter updates\n",
    "    def pre_update_params(self):\n",
    "        if self.decay:\n",
    "            self.current_learning_rate = \\\n",
    "                self.learning_rate * (1.0 / (1.0+self.decay * self.iterations))\n",
    "    \n",
    "    # Update parameters\n",
    "    def update_params(self, layer):\n",
    "\n",
    "        # Create cache arrays if not exist\n",
    "        if not hasattr(layer, 'weight_cache'):\n",
    "            layer.weight_momentums = np.zeros_like(layer.weights)\n",
    "            layer.weight_cache     = np.zeros_like(layer.weights)\n",
    "            layer.bias_momentums   = np.zeros_like(layer.biases)\n",
    "            layer.bias_cache       = np.zeros_like(layer.biases)\n",
    "\n",
    "        # Update momentum with current gradients\n",
    "        layer.weight_momentums = \\\n",
    "            self.beta_1 * layer.weight_momentums + (1-self.beta_1)*layer.dweights\n",
    "        layer.bias_momentums = \\\n",
    "            self.beta_1 * layer.bias_momentums   + (1-self.beta_1)*layer.dbiases\n",
    "\n",
    "        # Get corrected momentum\n",
    "        # self.iteration is 0 at first pass\n",
    "        # and we need to start with 1 here\n",
    "        weight_momentums_corrected = layer.weight_momentums / (1 - self.beta_1 ** (self.iterations+1))\n",
    "        bias_momentums_corrected   = layer.bias_momentums   / (1 - self.beta_1 ** (self.iterations+1))\n",
    "\n",
    "        # Update cache with squared current gradients\n",
    "        layer.weight_cache = \\\n",
    "            self.beta_2 * layer.weight_cache + (1-self.beta_2)*layer.dweights**2\n",
    "        layer.bias_cache = \\\n",
    "            self.beta_2 * layer.bias_cache   + (1-self.beta_2)*layer.dbiases**2\n",
    "\n",
    "        # Get corrected cache\n",
    "        weight_cache_corrected = layer.weight_cache / (1-self.beta_2**(self.iterations+1))\n",
    "        bias_cache_corrected   = layer.bias_cache   / (1-self.beta_2**(self.iterations+1))\n",
    "\n",
    "        # Vanilla SGD parameter update + normalization with sqrt cache\n",
    "        layer.weights += -self.current_learning_rate * weight_momentums_corrected / (np.sqrt(weight_cache_corrected) + self.epsilon)\n",
    "        layer.biases  += -self.current_learning_rate * bias_momentums_corrected   / (np.sqrt(bias_cache_corrected)   + self.epsilon)\n",
    "\n",
    "    # Call once after any parameter updates\n",
    "    def post_update_params(self):\n",
    "        self.iterations += 1"
   ]
  },
  {
   "attachments": {},
   "cell_type": "markdown",
   "metadata": {},
   "source": [
    "### Linear Activation"
   ]
  },
  {
   "cell_type": "code",
   "execution_count": 352,
   "metadata": {},
   "outputs": [],
   "source": [
    "# Linear Activation\n",
    "class Activation_Linear:\n",
    "\n",
    "    # Forward pass\n",
    "    def forward(self, inputs): \n",
    "        self.inputs = inputs\n",
    "        self.output = inputs\n",
    "\n",
    "    # Backward pass\n",
    "    def backward(self, dvalues):\n",
    "        # Derivative is 1, 1*dvalues = dvalues - the chain rule\n",
    "        self.dinputs = dvalues.copy()"
   ]
  },
  {
   "cell_type": "markdown",
   "metadata": {},
   "source": [
    "### Common Loss class"
   ]
  },
  {
   "cell_type": "code",
   "execution_count": 353,
   "metadata": {},
   "outputs": [],
   "source": [
    "class Loss:\n",
    "\n",
    "    # Regularization loss calculation\n",
    "    def regularization_loss(self, layer):\n",
    "        \n",
    "        regularization_loss = 0        \n",
    "        \n",
    "        # L1/L2 regularization (if factor greater than 0)\n",
    "        \n",
    "        if layer.weight_regularizer_l1 > 0:\n",
    "            regularization_loss += layer.weight_regularizer_l1 * np.sum(np.abs(layer.weights))\n",
    "        \n",
    "        if layer.weight_regularizer_l2 > 0:\n",
    "            regularization_loss += layer.weight_regularizer_l2 * np.sum(layer.weights * layer.weights)\n",
    "        \n",
    "        if layer.bias_regularizer_l1 > 0:\n",
    "            regularization_loss += layer.bias_regularizer_l1 * np.sum(np.abs(layer.biases))\n",
    "        \n",
    "        if layer.bias_regularizer_l2 > 0:\n",
    "            regularization_loss += layer.bias_regularizer_l2 * np.sum(layer.biases * layer.biases)\n",
    "\n",
    "        return regularization_loss\n",
    "        \n",
    "    # Calculates the data and regularization losses\n",
    "    # given model output and ground truth values\n",
    "    def calculate(self, output, y):\n",
    "\n",
    "        # Calculate sample losses\n",
    "        sample_losses = self.forward(output, y)\n",
    "\n",
    "        # Calculate mean loss\n",
    "        return np.mean(sample_losses)\n",
    "\n",
    "    def forward(self, y_pred, y_true):\n",
    "        return []"
   ]
  },
  {
   "cell_type": "markdown",
   "metadata": {},
   "source": [
    "### Mean Squared Error loss"
   ]
  },
  {
   "cell_type": "code",
   "execution_count": 354,
   "metadata": {},
   "outputs": [],
   "source": [
    "class Loss_MeanSquaredError(Loss):   # L2 Loss\n",
    "    \n",
    "    # Forward pass\n",
    "    def forward(self, y_pred, y_true): \n",
    "        # Calculate loss\n",
    "        sample_losses = np.mean((y_true - y_pred)**2, axis=-1)\n",
    "        return sample_losses\n",
    " \n",
    "    # Backward pass\n",
    "    def backward(self, dvalues, y_true):\n",
    "        # Number of samples\n",
    "        samples = len(dvalues)\n",
    "        outputs = len(dvalues[0])\n",
    "        \n",
    "        # Gradient on values\n",
    "        self.dinputs = -2 * (y_true - dvalues) / outputs\n",
    "        self.dinputs = self.dinputs / samples"
   ]
  },
  {
   "cell_type": "markdown",
   "metadata": {},
   "source": [
    "### Mean Absolute Error Loss"
   ]
  },
  {
   "cell_type": "code",
   "execution_count": 355,
   "metadata": {},
   "outputs": [],
   "source": [
    "class Loss_MeanAbsoluteError(Loss):   # L1 loss\n",
    "\n",
    "    # Forward pass\n",
    "    def forward(self, y_pred, y_true):\n",
    "\n",
    "        # Calculate loss\n",
    "        sample_losses = np.mean(np.abs(y_true - y_pred), axis=-1)\n",
    "        return sample_losses\n",
    "\n",
    "    # Backward pass\n",
    "    def backward(self, dvalues, y_true):\n",
    "\n",
    "        samples = len(dvalues)\n",
    "        outputs = len(dvalues[0])\n",
    "\n",
    "        # Calculate gradient\n",
    "        self.dinputs = np.sign(y_true - dvalues) / outputs\n",
    "\n",
    "        # Normalize gradient\n",
    "        self.dinputs = self.dinputs / samples\n",
    "        "
   ]
  },
  {
   "attachments": {},
   "cell_type": "markdown",
   "metadata": {},
   "source": [
    "### Create my very own copy of torch.nn.Module"
   ]
  },
  {
   "cell_type": "code",
   "execution_count": 356,
   "metadata": {},
   "outputs": [],
   "source": [
    "class Module:\n",
    "    def __init_(self):\n",
    "        #self.layer_stack = [['mats', 123]]\n",
    "        #self.inputs  = 0\n",
    "        #self.neurons = 0\n",
    "        #self.outputs = 0\n",
    "        pass\n",
    "        \n",
    "    def forward(self, inputs):\n",
    "        xx = inputs\n",
    "        for [name, model] in self.layer_stack:\n",
    "            model.forward(xx)\n",
    "            xx = model.output\n",
    "        self.output = xx\n",
    "\n",
    "    def backward(self, dvalues):\n",
    "        xx = dvalues\n",
    "        for [name, model] in self.layer_stack[::-1]:\n",
    "            model.backward(xx)\n",
    "            xx = model.dinputs\n",
    "        self.dinputs = xx\n",
    "\n",
    "    def __getitem__(self, argx):\n",
    "        if type(argx) == int: \n",
    "            return self.layer_stack[argx][1]\n",
    "        elif type(argx) == str:\n",
    "            [p] = [i[1] for i in self.layer_stack if argx in i]\n",
    "            return p\n",
    "        else:\n",
    "            print(\"We have found an error. Sit back and relax. Help is on the way\")\n",
    "\n",
    "    def __repr__(self):\n",
    "        s = \"\"\n",
    "        s += f'inputs  = {self.inputs:4d}\\n'\n",
    "        s += f'neurons = {self.neurons:4d}\\n'\n",
    "        s += f'outputs = {self.outputs:4d}\\n'\n",
    "        for [name, mode] in self.layer_stack:\n",
    "            s += f'Name: {name:<10}: model: {mode}\\n'\n",
    "        return s\n",
    "\n",
    "    def __str__(self):\n",
    "        s = \"\"\n",
    "        s += f'inputs  = {self.inputs:4d}\\n'\n",
    "        s += f'neurons = {self.neurons:4d}\\n'\n",
    "        s += f'outputs = {self.outputs:4d}\\n'\n",
    "        for [name, mode] in self.layer_stack:\n",
    "            s += f'Name: {name:<10}: model: {mode}\\n'\n",
    "        return s\n"
   ]
  },
  {
   "attachments": {},
   "cell_type": "markdown",
   "metadata": {},
   "source": [
    "### Setup the layer in Model0"
   ]
  },
  {
   "cell_type": "code",
   "execution_count": 357,
   "metadata": {},
   "outputs": [],
   "source": [
    "class Model0(Module): \n",
    "\n",
    "    def __init__(self, inputs, neurons, outputs):\n",
    "        super().__init__()\n",
    "\n",
    "        self.inputs  = inputs\n",
    "        self.neurons = neurons\n",
    "        self.outputs = outputs\n",
    "        self.layer_stack = [\n",
    "            ['dense1', Layer_Dense(inputs, neurons)],\n",
    "            ['ReLU'  , Activation_ReLU()],\n",
    "            ['dense2', Layer_Dense(neurons, neurons)],\n",
    "            ['linear', Activation_ReLU() ],\n",
    "            ['dense3', Layer_Dense(neurons, outputs)],\n",
    "            ['Linear', Activation_Linear() ]\n",
    "            ]\n"
   ]
  },
  {
   "attachments": {},
   "cell_type": "markdown",
   "metadata": {},
   "source": [
    "### Create the model"
   ]
  },
  {
   "cell_type": "code",
   "execution_count": 358,
   "metadata": {},
   "outputs": [
    {
     "name": "stdout",
     "output_type": "stream",
     "text": [
      "accuracy_precision:  0.0028284271247461905\n"
     ]
    }
   ],
   "source": [
    "# Create DataSet\n",
    "X,y = sine_data()\n",
    "\n",
    "# Create model\n",
    "model = Model0(1,64,1)\n",
    "\n",
    "loss_function = Loss_MeanSquaredError()\n",
    "optimizer     = Optimizer_Adam()\n",
    "\n",
    "accuracy_precision = np.std(y) / 250\n",
    "print('accuracy_precision: ', accuracy_precision)"
   ]
  },
  {
   "cell_type": "markdown",
   "metadata": {},
   "source": [
    "### Train in loop"
   ]
  },
  {
   "cell_type": "code",
   "execution_count": 359,
   "metadata": {},
   "outputs": [
    {
     "name": "stdout",
     "output_type": "stream",
     "text": [
      "epoch: 0     | acc : 0.002 |loss : 0.500 [data_loss : 0.500 |reg_loss : 0.000] |lr : 0.001 |\n",
      "epoch: 100   | acc : 0.003 |loss : 0.187 [data_loss : 0.187 |reg_loss : 0.000] |lr : 0.001 |\n",
      "epoch: 200   | acc : 0.006 |loss : 0.108 [data_loss : 0.108 |reg_loss : 0.000] |lr : 0.001 |\n",
      "epoch: 300   | acc : 0.005 |loss : 0.092 [data_loss : 0.092 |reg_loss : 0.000] |lr : 0.001 |\n",
      "epoch: 400   | acc : 0.007 |loss : 0.079 [data_loss : 0.079 |reg_loss : 0.000] |lr : 0.001 |\n",
      "epoch: 500   | acc : 0.010 |loss : 0.071 [data_loss : 0.071 |reg_loss : 0.000] |lr : 0.001 |\n",
      "epoch: 600   | acc : 0.014 |loss : 0.065 [data_loss : 0.065 |reg_loss : 0.000] |lr : 0.001 |\n",
      "epoch: 700   | acc : 0.092 |loss : 0.059 [data_loss : 0.059 |reg_loss : 0.000] |lr : 0.001 |\n",
      "epoch: 800   | acc : 0.082 |loss : 0.051 [data_loss : 0.051 |reg_loss : 0.000] |lr : 0.001 |\n",
      "epoch: 900   | acc : 0.075 |loss : 0.043 [data_loss : 0.043 |reg_loss : 0.000] |lr : 0.001 |\n",
      "epoch: 1000  | acc : 0.108 |loss : 0.035 [data_loss : 0.035 |reg_loss : 0.000] |lr : 0.001 |\n",
      "epoch: 1100  | acc : 0.163 |loss : 0.032 [data_loss : 0.032 |reg_loss : 0.000] |lr : 0.001 |\n",
      "epoch: 1200  | acc : 0.208 |loss : 0.031 [data_loss : 0.031 |reg_loss : 0.000] |lr : 0.001 |\n",
      "epoch: 1300  | acc : 0.295 |loss : 0.031 [data_loss : 0.031 |reg_loss : 0.000] |lr : 0.001 |\n",
      "epoch: 1400  | acc : 0.371 |loss : 0.031 [data_loss : 0.031 |reg_loss : 0.000] |lr : 0.001 |\n",
      "epoch: 1500  | acc : 0.426 |loss : 0.031 [data_loss : 0.031 |reg_loss : 0.000] |lr : 0.001 |\n",
      "epoch: 1600  | acc : 0.468 |loss : 0.031 [data_loss : 0.031 |reg_loss : 0.000] |lr : 0.001 |\n",
      "epoch: 1700  | acc : 0.443 |loss : 0.031 [data_loss : 0.031 |reg_loss : 0.000] |lr : 0.001 |\n",
      "epoch: 1800  | acc : 0.494 |loss : 0.031 [data_loss : 0.031 |reg_loss : 0.000] |lr : 0.001 |\n",
      "epoch: 1900  | acc : 0.513 |loss : 0.031 [data_loss : 0.031 |reg_loss : 0.000] |lr : 0.001 |\n",
      "epoch: 2000  | acc : 0.331 |loss : 0.031 [data_loss : 0.031 |reg_loss : 0.000] |lr : 0.001 |\n",
      "epoch: 2100  | acc : 0.527 |loss : 0.031 [data_loss : 0.031 |reg_loss : 0.000] |lr : 0.001 |\n",
      "epoch: 2200  | acc : 0.540 |loss : 0.031 [data_loss : 0.031 |reg_loss : 0.000] |lr : 0.001 |\n",
      "epoch: 2300  | acc : 0.544 |loss : 0.031 [data_loss : 0.031 |reg_loss : 0.000] |lr : 0.001 |\n",
      "epoch: 2400  | acc : 0.500 |loss : 0.031 [data_loss : 0.031 |reg_loss : 0.000] |lr : 0.001 |\n",
      "epoch: 2500  | acc : 0.555 |loss : 0.031 [data_loss : 0.031 |reg_loss : 0.000] |lr : 0.001 |\n",
      "epoch: 2600  | acc : 0.560 |loss : 0.031 [data_loss : 0.031 |reg_loss : 0.000] |lr : 0.001 |\n",
      "epoch: 2700  | acc : 0.566 |loss : 0.031 [data_loss : 0.031 |reg_loss : 0.000] |lr : 0.001 |\n",
      "epoch: 2800  | acc : 0.571 |loss : 0.031 [data_loss : 0.031 |reg_loss : 0.000] |lr : 0.001 |\n",
      "epoch: 2900  | acc : 0.578 |loss : 0.031 [data_loss : 0.031 |reg_loss : 0.000] |lr : 0.001 |\n",
      "epoch: 3000  | acc : 0.580 |loss : 0.031 [data_loss : 0.031 |reg_loss : 0.000] |lr : 0.001 |\n",
      "epoch: 3100  | acc : 0.589 |loss : 0.031 [data_loss : 0.031 |reg_loss : 0.000] |lr : 0.001 |\n",
      "epoch: 3200  | acc : 0.509 |loss : 0.031 [data_loss : 0.031 |reg_loss : 0.000] |lr : 0.001 |\n",
      "epoch: 3300  | acc : 0.602 |loss : 0.031 [data_loss : 0.031 |reg_loss : 0.000] |lr : 0.001 |\n",
      "epoch: 3400  | acc : 0.604 |loss : 0.031 [data_loss : 0.031 |reg_loss : 0.000] |lr : 0.001 |\n",
      "epoch: 3500  | acc : 0.607 |loss : 0.031 [data_loss : 0.031 |reg_loss : 0.000] |lr : 0.001 |\n",
      "epoch: 3600  | acc : 0.607 |loss : 0.031 [data_loss : 0.031 |reg_loss : 0.000] |lr : 0.001 |\n",
      "epoch: 3700  | acc : 0.569 |loss : 0.031 [data_loss : 0.031 |reg_loss : 0.000] |lr : 0.001 |\n",
      "epoch: 3800  | acc : 0.609 |loss : 0.031 [data_loss : 0.031 |reg_loss : 0.000] |lr : 0.001 |\n",
      "epoch: 3900  | acc : 0.511 |loss : 0.031 [data_loss : 0.031 |reg_loss : 0.000] |lr : 0.001 |\n",
      "epoch: 4000  | acc : 0.611 |loss : 0.031 [data_loss : 0.031 |reg_loss : 0.000] |lr : 0.001 |\n",
      "epoch: 4100  | acc : 0.284 |loss : 0.031 [data_loss : 0.031 |reg_loss : 0.000] |lr : 0.001 |\n",
      "epoch: 4200  | acc : 0.613 |loss : 0.031 [data_loss : 0.031 |reg_loss : 0.000] |lr : 0.001 |\n",
      "epoch: 4300  | acc : 0.573 |loss : 0.031 [data_loss : 0.031 |reg_loss : 0.000] |lr : 0.001 |\n",
      "epoch: 4400  | acc : 0.615 |loss : 0.031 [data_loss : 0.031 |reg_loss : 0.000] |lr : 0.001 |\n",
      "epoch: 4500  | acc : 0.616 |loss : 0.031 [data_loss : 0.031 |reg_loss : 0.000] |lr : 0.001 |\n",
      "epoch: 4600  | acc : 0.576 |loss : 0.031 [data_loss : 0.031 |reg_loss : 0.000] |lr : 0.001 |\n",
      "epoch: 4700  | acc : 0.616 |loss : 0.031 [data_loss : 0.031 |reg_loss : 0.000] |lr : 0.001 |\n",
      "epoch: 4800  | acc : 0.616 |loss : 0.031 [data_loss : 0.031 |reg_loss : 0.000] |lr : 0.001 |\n",
      "epoch: 4900  | acc : 0.615 |loss : 0.031 [data_loss : 0.031 |reg_loss : 0.000] |lr : 0.001 |\n",
      "epoch: 5000  | acc : 0.614 |loss : 0.031 [data_loss : 0.031 |reg_loss : 0.000] |lr : 0.001 |\n",
      "epoch: 5100  | acc : 0.615 |loss : 0.031 [data_loss : 0.031 |reg_loss : 0.000] |lr : 0.001 |\n",
      "epoch: 5200  | acc : 0.617 |loss : 0.031 [data_loss : 0.031 |reg_loss : 0.000] |lr : 0.001 |\n",
      "epoch: 5300  | acc : 0.616 |loss : 0.031 [data_loss : 0.031 |reg_loss : 0.000] |lr : 0.001 |\n",
      "epoch: 5400  | acc : 0.615 |loss : 0.031 [data_loss : 0.031 |reg_loss : 0.000] |lr : 0.001 |\n",
      "epoch: 5500  | acc : 0.614 |loss : 0.031 [data_loss : 0.031 |reg_loss : 0.000] |lr : 0.001 |\n",
      "epoch: 5600  | acc : 0.615 |loss : 0.031 [data_loss : 0.031 |reg_loss : 0.000] |lr : 0.001 |\n",
      "epoch: 5700  | acc : 0.229 |loss : 0.031 [data_loss : 0.031 |reg_loss : 0.000] |lr : 0.001 |\n",
      "epoch: 5800  | acc : 0.615 |loss : 0.031 [data_loss : 0.031 |reg_loss : 0.000] |lr : 0.001 |\n",
      "epoch: 5900  | acc : 0.617 |loss : 0.031 [data_loss : 0.031 |reg_loss : 0.000] |lr : 0.001 |\n",
      "epoch: 6000  | acc : 0.440 |loss : 0.031 [data_loss : 0.031 |reg_loss : 0.000] |lr : 0.001 |\n",
      "epoch: 6100  | acc : 0.616 |loss : 0.031 [data_loss : 0.031 |reg_loss : 0.000] |lr : 0.001 |\n",
      "epoch: 6200  | acc : 0.616 |loss : 0.031 [data_loss : 0.031 |reg_loss : 0.000] |lr : 0.001 |\n",
      "epoch: 6300  | acc : 0.616 |loss : 0.031 [data_loss : 0.031 |reg_loss : 0.000] |lr : 0.001 |\n",
      "epoch: 6400  | acc : 0.607 |loss : 0.031 [data_loss : 0.031 |reg_loss : 0.000] |lr : 0.001 |\n",
      "epoch: 6500  | acc : 0.617 |loss : 0.031 [data_loss : 0.031 |reg_loss : 0.000] |lr : 0.001 |\n",
      "epoch: 6600  | acc : 0.360 |loss : 0.031 [data_loss : 0.031 |reg_loss : 0.000] |lr : 0.001 |\n",
      "epoch: 6700  | acc : 0.617 |loss : 0.031 [data_loss : 0.031 |reg_loss : 0.000] |lr : 0.001 |\n",
      "epoch: 6800  | acc : 0.436 |loss : 0.031 [data_loss : 0.031 |reg_loss : 0.000] |lr : 0.001 |\n",
      "epoch: 6900  | acc : 0.617 |loss : 0.031 [data_loss : 0.031 |reg_loss : 0.000] |lr : 0.001 |\n",
      "epoch: 7000  | acc : 0.616 |loss : 0.031 [data_loss : 0.031 |reg_loss : 0.000] |lr : 0.001 |\n",
      "epoch: 7100  | acc : 0.618 |loss : 0.031 [data_loss : 0.031 |reg_loss : 0.000] |lr : 0.001 |\n",
      "epoch: 7200  | acc : 0.617 |loss : 0.031 [data_loss : 0.031 |reg_loss : 0.000] |lr : 0.001 |\n",
      "epoch: 7300  | acc : 0.617 |loss : 0.031 [data_loss : 0.031 |reg_loss : 0.000] |lr : 0.001 |\n",
      "epoch: 7400  | acc : 0.617 |loss : 0.031 [data_loss : 0.031 |reg_loss : 0.000] |lr : 0.001 |\n",
      "epoch: 7500  | acc : 0.116 |loss : 0.031 [data_loss : 0.031 |reg_loss : 0.000] |lr : 0.001 |\n",
      "epoch: 7600  | acc : 0.617 |loss : 0.031 [data_loss : 0.031 |reg_loss : 0.000] |lr : 0.001 |\n",
      "epoch: 7700  | acc : 0.617 |loss : 0.031 [data_loss : 0.031 |reg_loss : 0.000] |lr : 0.001 |\n",
      "epoch: 7800  | acc : 0.617 |loss : 0.031 [data_loss : 0.031 |reg_loss : 0.000] |lr : 0.001 |\n",
      "epoch: 7900  | acc : 0.617 |loss : 0.031 [data_loss : 0.031 |reg_loss : 0.000] |lr : 0.001 |\n",
      "epoch: 8000  | acc : 0.510 |loss : 0.031 [data_loss : 0.031 |reg_loss : 0.000] |lr : 0.001 |\n",
      "epoch: 8100  | acc : 0.618 |loss : 0.031 [data_loss : 0.031 |reg_loss : 0.000] |lr : 0.001 |\n",
      "epoch: 8200  | acc : 0.615 |loss : 0.031 [data_loss : 0.031 |reg_loss : 0.000] |lr : 0.001 |\n",
      "epoch: 8300  | acc : 0.618 |loss : 0.031 [data_loss : 0.031 |reg_loss : 0.000] |lr : 0.001 |\n",
      "epoch: 8400  | acc : 0.617 |loss : 0.031 [data_loss : 0.031 |reg_loss : 0.000] |lr : 0.001 |\n",
      "epoch: 8500  | acc : 0.618 |loss : 0.031 [data_loss : 0.031 |reg_loss : 0.000] |lr : 0.001 |\n",
      "epoch: 8600  | acc : 0.618 |loss : 0.031 [data_loss : 0.031 |reg_loss : 0.000] |lr : 0.001 |\n",
      "epoch: 8700  | acc : 0.621 |loss : 0.031 [data_loss : 0.031 |reg_loss : 0.000] |lr : 0.001 |\n",
      "epoch: 8800  | acc : 0.618 |loss : 0.031 [data_loss : 0.031 |reg_loss : 0.000] |lr : 0.001 |\n",
      "epoch: 8900  | acc : 0.624 |loss : 0.031 [data_loss : 0.031 |reg_loss : 0.000] |lr : 0.001 |\n",
      "epoch: 9000  | acc : 0.619 |loss : 0.031 [data_loss : 0.031 |reg_loss : 0.000] |lr : 0.001 |\n",
      "epoch: 9100  | acc : 0.551 |loss : 0.031 [data_loss : 0.031 |reg_loss : 0.000] |lr : 0.001 |\n",
      "epoch: 9200  | acc : 0.620 |loss : 0.031 [data_loss : 0.031 |reg_loss : 0.000] |lr : 0.001 |\n",
      "epoch: 9300  | acc : 0.617 |loss : 0.031 [data_loss : 0.031 |reg_loss : 0.000] |lr : 0.001 |\n",
      "epoch: 9400  | acc : 0.599 |loss : 0.031 [data_loss : 0.031 |reg_loss : 0.000] |lr : 0.001 |\n",
      "epoch: 9500  | acc : 0.620 |loss : 0.031 [data_loss : 0.031 |reg_loss : 0.000] |lr : 0.001 |\n",
      "epoch: 9600  | acc : 0.615 |loss : 0.031 [data_loss : 0.031 |reg_loss : 0.000] |lr : 0.001 |\n",
      "epoch: 9700  | acc : 0.619 |loss : 0.031 [data_loss : 0.031 |reg_loss : 0.000] |lr : 0.001 |\n",
      "epoch: 9800  | acc : 0.620 |loss : 0.031 [data_loss : 0.031 |reg_loss : 0.000] |lr : 0.001 |\n",
      "epoch: 9900  | acc : 0.617 |loss : 0.031 [data_loss : 0.031 |reg_loss : 0.000] |lr : 0.001 |\n",
      "epoch: 10000 | acc : 0.620 |loss : 0.031 [data_loss : 0.031 |reg_loss : 0.000] |lr : 0.001 |\n"
     ]
    }
   ],
   "source": [
    "for epoch in range(10001):\n",
    "    # Forward\n",
    "    model.forward(X)\n",
    "    # loss\n",
    "    data_loss = loss_function.calculate(model.output, y)\n",
    "\n",
    "    regularization_loss = \\\n",
    "        loss_function.regularization_loss(model['dense1']) + \\\n",
    "        loss_function.regularization_loss(model['dense2']) + \\\n",
    "        loss_function.regularization_loss(model['dense3'])\n",
    "    \n",
    "    loss = data_loss + regularization_loss\n",
    "\n",
    "    predictions = model.output\n",
    "    accuracy    = np.mean(np.absolute(predictions - y) < accuracy_precision)\n",
    "\n",
    "    if not epoch % 100: \n",
    "        print(  f'epoch: {epoch:<5d} | '   +\n",
    "                f'acc : {accuracy:.3f} |' +\n",
    "                f'loss : {loss:.3f} [' +\n",
    "                f'data_loss : {data_loss:.3f} |' +\n",
    "                f'reg_loss : {regularization_loss:.3f}] |' +\n",
    "                f'lr : {optimizer.current_learning_rate:.3f} |')\n",
    "\n",
    "    # Backward pass\n",
    "    loss_function.backward(model.output, y)\n",
    "    model.backward(loss_function.dinputs)\n",
    "    \n",
    "    # Update weights and biases\n",
    "    optimizer.pre_update_params()\n",
    "    optimizer.update_params(model['dense1'])\n",
    "    optimizer.update_params(model['dense2'])\n",
    "    optimizer.update_params(model['dense3'])\n",
    "    optimizer.post_update_params()"
   ]
  },
  {
   "cell_type": "code",
   "execution_count": 361,
   "metadata": {},
   "outputs": [
    {
     "data": {
      "image/png": "[encoded data removed]",
      "text/plain": [
       "<Figure size 640x480 with 1 Axes>"
      ]
     },
     "metadata": {},
     "output_type": "display_data"
    }
   ],
   "source": [
    "import matplotlib.pyplot as plt\n",
    "\n",
    "X_test, y_test = sine_data()\n",
    "\n",
    "model.forward(X)\n",
    "\n",
    "plt.plot(X_test, y_test)\n",
    "plt.plot(X_test, model.output)\n",
    "plt.show()"
   ]
  }
 ],
 "metadata": {
  "kernelspec": {
   "display_name": "Python 3",
   "language": "python",
   "name": "python3"
  },
  "language_info": {
   "codemirror_mode": {
    "name": "ipython",
    "version": 3
   },
   "file_extension": ".py",
   "mimetype": "text/x-python",
   "name": "python",
   "nbconvert_exporter": "python",
   "pygments_lexer": "ipython3",
   "version": "3.9.13"
  },
  "orig_nbformat": 4,
  "vscode": {
   "interpreter": {
    "hash": "a8a3a8840d1b031f75a2a8404321b24da973faff270bc4dd0b1948a8f61d7454"
   }
  }
 },
 "nbformat": 4,
 "nbformat_minor": 2
}
